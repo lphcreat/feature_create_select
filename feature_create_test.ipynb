{
 "metadata": {
  "language_info": {
   "codemirror_mode": {
    "name": "ipython",
    "version": 3
   },
   "file_extension": ".py",
   "mimetype": "text/x-python",
   "name": "python",
   "nbconvert_exporter": "python",
   "pygments_lexer": "ipython3",
   "version": "3.7.6-final"
  },
  "orig_nbformat": 2,
  "kernelspec": {
   "name": "python3",
   "display_name": "Python 3"
  }
 },
 "nbformat": 4,
 "nbformat_minor": 2,
 "cells": [
  {
   "cell_type": "code",
   "execution_count": 1,
   "metadata": {},
   "outputs": [
    {
     "output_type": "stream",
     "name": "stdout",
     "text": [
      "2020-12-09 15:27:55,224 featuretools - WARNING    Featuretools failed to load plugin nlp_primitives from library nlp_primitives. For a full stack trace, set logging to debug.\n"
     ]
    }
   ],
   "source": [
    "from semi_auto_ml import AutoCreate"
   ]
  },
  {
   "cell_type": "code",
   "execution_count": 2,
   "metadata": {},
   "outputs": [],
   "source": [
    "import featuretools as ft"
   ]
  },
  {
   "cell_type": "code",
   "execution_count": 3,
   "metadata": {},
   "outputs": [],
   "source": [
    "data = ft.demo.load_mock_customer()"
   ]
  },
  {
   "cell_type": "code",
   "execution_count": 4,
   "metadata": {},
   "outputs": [],
   "source": [
    "auto_c = AutoCreate()"
   ]
  },
  {
   "cell_type": "code",
   "execution_count": 5,
   "metadata": {},
   "outputs": [],
   "source": [
    "customers_df = data['customers']\n",
    "sessions_df = data[\"sessions\"]\n",
    "transactions_df = data[\"transactions\"]"
   ]
  },
  {
   "cell_type": "code",
   "execution_count": 6,
   "metadata": {},
   "outputs": [
    {
     "output_type": "execute_result",
     "data": {
      "text/plain": [
       "   transaction_id  session_id    transaction_time product_id  amount\n",
       "0             298           1 2014-01-01 00:00:00          5  127.64\n",
       "1               2           1 2014-01-01 00:01:05          2  109.48\n",
       "2             308           1 2014-01-01 00:02:10          3   95.06\n",
       "3             116           1 2014-01-01 00:03:15          4   78.92\n",
       "4             371           1 2014-01-01 00:04:20          3   31.54"
      ],
      "text/html": "<div>\n<style scoped>\n    .dataframe tbody tr th:only-of-type {\n        vertical-align: middle;\n    }\n\n    .dataframe tbody tr th {\n        vertical-align: top;\n    }\n\n    .dataframe thead th {\n        text-align: right;\n    }\n</style>\n<table border=\"1\" class=\"dataframe\">\n  <thead>\n    <tr style=\"text-align: right;\">\n      <th></th>\n      <th>transaction_id</th>\n      <th>session_id</th>\n      <th>transaction_time</th>\n      <th>product_id</th>\n      <th>amount</th>\n    </tr>\n  </thead>\n  <tbody>\n    <tr>\n      <th>0</th>\n      <td>298</td>\n      <td>1</td>\n      <td>2014-01-01 00:00:00</td>\n      <td>5</td>\n      <td>127.64</td>\n    </tr>\n    <tr>\n      <th>1</th>\n      <td>2</td>\n      <td>1</td>\n      <td>2014-01-01 00:01:05</td>\n      <td>2</td>\n      <td>109.48</td>\n    </tr>\n    <tr>\n      <th>2</th>\n      <td>308</td>\n      <td>1</td>\n      <td>2014-01-01 00:02:10</td>\n      <td>3</td>\n      <td>95.06</td>\n    </tr>\n    <tr>\n      <th>3</th>\n      <td>116</td>\n      <td>1</td>\n      <td>2014-01-01 00:03:15</td>\n      <td>4</td>\n      <td>78.92</td>\n    </tr>\n    <tr>\n      <th>4</th>\n      <td>371</td>\n      <td>1</td>\n      <td>2014-01-01 00:04:20</td>\n      <td>3</td>\n      <td>31.54</td>\n    </tr>\n  </tbody>\n</table>\n</div>"
     },
     "metadata": {},
     "execution_count": 6
    }
   ],
   "source": [
    "transactions_df.head()"
   ]
  },
  {
   "cell_type": "code",
   "execution_count": 7,
   "metadata": {},
   "outputs": [
    {
     "output_type": "execute_result",
     "data": {
      "text/plain": [
       "[5, 2, 3, 4, 1]\n",
       "Categories (5, int64): [5, 2, 3, 4, 1]"
      ]
     },
     "metadata": {},
     "execution_count": 7
    }
   ],
   "source": [
    "transactions_df['product_id'].unique()"
   ]
  },
  {
   "cell_type": "code",
   "execution_count": 8,
   "metadata": {},
   "outputs": [],
   "source": [
    "#可以参考featuretools 里面的类型进行定义,打印dtypes 对于类型不正确或object进行定义\n",
    "auto_c.create_entity('customers',customers_df,index = 'customer_id',\n",
    "                    time_index = 'join_date',\n",
    "                    variable_types={\"zip_code\": ft.variable_types.ZIPCode})"
   ]
  },
  {
   "cell_type": "code",
   "execution_count": 9,
   "metadata": {},
   "outputs": [],
   "source": [
    "auto_c.create_entity('sessions',sessions_df,index = 'session_id',\n",
    "                    time_index = 'session_start',\n",
    "                    variable_types={\"device\": ft.variable_types.Categorical})"
   ]
  },
  {
   "cell_type": "code",
   "execution_count": 10,
   "metadata": {},
   "outputs": [],
   "source": [
    "auto_c.create_entity('transactions',transactions_df,index = 'transaction_id',\n",
    "                    time_index = 'transaction_time',\n",
    "                    variable_types={\"product_id\": ft.variable_types.Categorical})"
   ]
  },
  {
   "cell_type": "code",
   "execution_count": 11,
   "metadata": {},
   "outputs": [],
   "source": [
    "auto_c.add_relation(['customers.customer_id','sessions.customer_id','sessions.session_id','transactions.session_id'])"
   ]
  },
  {
   "cell_type": "code",
   "execution_count": 12,
   "metadata": {},
   "outputs": [],
   "source": [
    "auto_c.focus_value('transactions','product_id',interesting_values=[1,2,3])"
   ]
  },
  {
   "cell_type": "code",
   "execution_count": 13,
   "metadata": {},
   "outputs": [],
   "source": [
    "from featuretools.primitives import TimeSince\n",
    "time_since = TimeSince(unit=\"days\")"
   ]
  },
  {
   "cell_type": "code",
   "execution_count": 14,
   "metadata": {},
   "outputs": [],
   "source": [
    "simple_matrix,features_def = auto_c.make_features(target_entity=\"customers\",agg_primitives = ['mean', 'max', 'percent_true', 'last','count'],trans_primitives = ['year', 'month', time_since],where_primitives=['count'])"
   ]
  },
  {
   "cell_type": "code",
   "execution_count": 15,
   "metadata": {},
   "outputs": [],
   "source": [
    "# 定义自定义函数以及指定不同的列使用不同的函数\n",
    "from featuretools.primitives import make_agg_primitive, make_trans_primitive\n",
    "import numpy as np\n",
    "def maxmin(column):\n",
    "    return max(column)-min(column)\n",
    "Maxmin = make_agg_primitive(function=maxmin,\n",
    "                      input_types=[ft.variable_types.Numeric],\n",
    "                      return_type=ft.variable_types.Numeric)\n",
    "def get_addr(column):\n",
    "    pro = np.array([item[:3] for item in column])\n",
    "    city = np.array([item[3:] for item in column])\n",
    "    return [pro,city]\n",
    "Addr = make_trans_primitive(function=get_addr,\n",
    "                        input_types=[ft.variable_types.ZIPCode],\n",
    "                        return_type=ft.variable_types.Categorical,\n",
    "                        number_output_features=2)"
   ]
  },
  {
   "cell_type": "code",
   "execution_count": 16,
   "metadata": {},
   "outputs": [],
   "source": [
    "c_matrix,features_def = auto_c.make_features(target_entity=\"customers\",agg_primitives = ['mean', 'max', 'percent_true', 'last',Maxmin,'count'],trans_primitives = ['year', 'month', 'time_since',Addr],where_primitives=['count'])"
   ]
  },
  {
   "cell_type": "code",
   "execution_count": 17,
   "metadata": {},
   "outputs": [],
   "source": [
    "option_matrix,features_def = auto_c.make_features(\n",
    "                        target_entity=\"customers\",\n",
    "                        agg_primitives = ['mean', 'max','percent_true', 'last',Maxmin,'count'],\n",
    "                        trans_primitives = ['year', 'month', 'time_since',Addr],                                       where_primitives=['count'],ignore_entities=[],\n",
    "                        ignore_variables={'customers': ['date_of_birth']},\n",
    "                        primitive_options={'time_since': {\n",
    "                        'ignore_entities': ['sessions']},\n",
    "                        Maxmin: {'include_variables':{'transactions':['amount']}}})"
   ]
  },
  {
   "cell_type": "code",
   "execution_count": 18,
   "metadata": {},
   "outputs": [],
   "source": [
    "clean_matrix,features_def=auto_c.clean_features(option_matrix,features_def)"
   ]
  },
  {
   "cell_type": "code",
   "execution_count": 22,
   "metadata": {},
   "outputs": [],
   "source": [
    "auto_c.remove_features(['zip_code'],clean_matrix)"
   ]
  },
  {
   "cell_type": "code",
   "execution_count": 19,
   "metadata": {},
   "outputs": [],
   "source": [
    "# 丢弃zip_code，将其他object的列转为category\n",
    "import pandas as pd\n",
    "df_types = pd.DataFrame(clean_matrix.dtypes).reset_index().rename(columns = {'index': 'feature', 0: 'type_name'}).astype('str')"
   ]
  },
  {
   "cell_type": "code",
   "execution_count": 20,
   "metadata": {},
   "outputs": [],
   "source": [
    "object_col = df_types[df_types['type_name']=='object']['feature'].tolist()\n",
    "convert_col = [item for item in object_col if item !='zip_code']"
   ]
  },
  {
   "cell_type": "code",
   "execution_count": 21,
   "metadata": {},
   "outputs": [],
   "source": [
    "clean_matrix[convert_col] = clean_matrix[convert_col].astype('category')"
   ]
  },
  {
   "cell_type": "code",
   "execution_count": 22,
   "metadata": {},
   "outputs": [
    {
     "output_type": "stream",
     "name": "stdout",
     "text": [
      "2020-11-19 18:10:32,830 featuretools - WARNING    Feature <Feature: GET_ADDR(zip_code)> has multiple columns and will not be encoded.  This may result in a matrix with non-numeric values.\n"
     ]
    }
   ],
   "source": [
    "# 可以使用 to_encode参数指定需要one-hot 的列\n",
    "final_matrix,final_fd = auto_c.get_final_data(clean_matrix,features_def)"
   ]
  },
  {
   "cell_type": "code",
   "execution_count": 23,
   "metadata": {},
   "outputs": [
    {
     "output_type": "execute_result",
     "data": {
      "text/plain": [
       "[<Feature: COUNT(sessions)>,\n",
       " <Feature: LAST(sessions.device) = mobile>,\n",
       " <Feature: LAST(sessions.device) = desktop>,\n",
       " <Feature: LAST(sessions.device) is unknown>,\n",
       " <Feature: LAST(sessions.session_id) = 35>,\n",
       " <Feature: LAST(sessions.session_id) = 33>,\n",
       " <Feature: LAST(sessions.session_id) = 32>,\n",
       " <Feature: LAST(sessions.session_id) = 29>,\n",
       " <Feature: LAST(sessions.session_id) = 22>,\n",
       " <Feature: LAST(sessions.session_id) is unknown>,\n",
       " <Feature: COUNT(transactions)>,\n",
       " <Feature: LAST(transactions.amount)>,\n",
       " <Feature: LAST(transactions.product_id) = 1>,\n",
       " <Feature: LAST(transactions.product_id) = 4>,\n",
       " <Feature: LAST(transactions.product_id) = 3>,\n",
       " <Feature: LAST(transactions.product_id) = 2>,\n",
       " <Feature: LAST(transactions.product_id) is unknown>,\n",
       " <Feature: LAST(transactions.transaction_id) = 385>,\n",
       " <Feature: LAST(transactions.transaction_id) = 203>,\n",
       " <Feature: LAST(transactions.transaction_id) = 104>,\n",
       " <Feature: LAST(transactions.transaction_id) = 85>,\n",
       " <Feature: LAST(transactions.transaction_id) = 64>,\n",
       " <Feature: LAST(transactions.transaction_id) is unknown>,\n",
       " <Feature: MAX(transactions.amount)>,\n",
       " <Feature: MEAN(transactions.amount)>,\n",
       " <Feature: GET_ADDR(zip_code)>,\n",
       " <Feature: MONTH(join_date) = 4>,\n",
       " <Feature: MONTH(join_date) = 8>,\n",
       " <Feature: MONTH(join_date) = 7>,\n",
       " <Feature: MONTH(join_date) is unknown>,\n",
       " <Feature: TIME_SINCE(join_date)>,\n",
       " <Feature: LAST(sessions.COUNT(transactions))>,\n",
       " <Feature: LAST(sessions.MAX(transactions.amount))>,\n",
       " <Feature: LAST(sessions.MAXMIN(transactions.amount))>,\n",
       " <Feature: MAX(sessions.LAST(transactions.amount))>,\n",
       " <Feature: MAX(sessions.MAXMIN(transactions.amount))>,\n",
       " <Feature: MAX(sessions.MEAN(transactions.amount))>,\n",
       " <Feature: MAXMIN(sessions.LAST(transactions.amount))>,\n",
       " <Feature: MAXMIN(sessions.MAX(transactions.amount))>,\n",
       " <Feature: MAXMIN(sessions.MAXMIN(transactions.amount))>,\n",
       " <Feature: MEAN(sessions.COUNT(transactions))>,\n",
       " <Feature: MEAN(sessions.MAX(transactions.amount))>,\n",
       " <Feature: COUNT(transactions WHERE product_id = 1)>,\n",
       " <Feature: COUNT(transactions WHERE product_id = 3)>,\n",
       " <Feature: LAST(transactions.sessions.customer_id) = 5>,\n",
       " <Feature: LAST(transactions.sessions.customer_id) = 4>,\n",
       " <Feature: LAST(transactions.sessions.customer_id) = 3>,\n",
       " <Feature: LAST(transactions.sessions.customer_id) = 2>,\n",
       " <Feature: LAST(transactions.sessions.customer_id) = 1>,\n",
       " <Feature: LAST(transactions.sessions.customer_id) is unknown>,\n",
       " <Feature: LAST(transactions.sessions.device) = mobile>,\n",
       " <Feature: LAST(transactions.sessions.device) = desktop>,\n",
       " <Feature: LAST(transactions.sessions.device) is unknown>]"
      ]
     },
     "metadata": {},
     "execution_count": 23
    }
   ],
   "source": [
    "final_fd"
   ]
  },
  {
   "cell_type": "code",
   "execution_count": 24,
   "metadata": {},
   "outputs": [],
   "source": [
    "#使用remove_features丢弃_id 列,得到最终的Features 为了最终使用deploy_features_create\n",
    "drop_cols = [item for item in final_matrix.columns if '_id' in item]"
   ]
  },
  {
   "cell_type": "code",
   "execution_count": 25,
   "metadata": {},
   "outputs": [],
   "source": [
    "deploy_matrix,deploy_fd= auto_c.remove_features(drop_cols,final_matrix,features_enc=final_fd)"
   ]
  },
  {
   "cell_type": "code",
   "execution_count": 26,
   "metadata": {},
   "outputs": [
    {
     "output_type": "execute_result",
     "data": {
      "text/plain": [
       "             COUNT(sessions)  LAST(sessions.device) = mobile  \\\n",
       "customer_id                                                    \n",
       "5                          6                            True   \n",
       "4                          8                           False   \n",
       "1                          8                            True   \n",
       "3                          6                            True   \n",
       "2                          7                            True   \n",
       "\n",
       "             LAST(sessions.device) = desktop  \\\n",
       "customer_id                                    \n",
       "5                                      False   \n",
       "4                                       True   \n",
       "1                                      False   \n",
       "3                                      False   \n",
       "2                                      False   \n",
       "\n",
       "             LAST(sessions.device) is unknown  COUNT(transactions)  \\\n",
       "customer_id                                                          \n",
       "5                                       False                   79   \n",
       "4                                       False                  109   \n",
       "1                                       False                  126   \n",
       "3                                       False                   93   \n",
       "2                                       False                   93   \n",
       "\n",
       "             LAST(transactions.amount)  MAX(transactions.amount)  \\\n",
       "customer_id                                                        \n",
       "5                               111.02                    149.02   \n",
       "4                               127.71                    149.95   \n",
       "1                                67.43                    139.43   \n",
       "3                               148.31                    149.15   \n",
       "2                                66.80                    146.81   \n",
       "\n",
       "             MEAN(transactions.amount) GET_ADDR(zip_code)[0]  \\\n",
       "customer_id                                                    \n",
       "5                            80.375443                   600   \n",
       "4                            80.070459                   600   \n",
       "1                            71.631905                   600   \n",
       "3                            67.060430                   132   \n",
       "2                            77.422366                   132   \n",
       "\n",
       "            GET_ADDR(zip_code)[1]  ...  \\\n",
       "customer_id                        ...   \n",
       "5                              91  ...   \n",
       "4                              91  ...   \n",
       "1                              91  ...   \n",
       "3                              44  ...   \n",
       "2                              44  ...   \n",
       "\n",
       "             MAX(sessions.MAXMIN(transactions.amount))  \\\n",
       "customer_id                                              \n",
       "5                                               136.98   \n",
       "4                                               143.11   \n",
       "1                                               133.52   \n",
       "3                                               143.26   \n",
       "2                                               134.74   \n",
       "\n",
       "             MAX(sessions.MEAN(transactions.amount))  \\\n",
       "customer_id                                            \n",
       "5                                          94.481667   \n",
       "4                                         110.450000   \n",
       "1                                          88.755625   \n",
       "3                                          82.109444   \n",
       "2                                          96.581000   \n",
       "\n",
       "             MAXMIN(sessions.LAST(transactions.amount))  \\\n",
       "customer_id                                               \n",
       "5                                                124.74   \n",
       "4                                                142.52   \n",
       "1                                                103.39   \n",
       "3                                                107.43   \n",
       "2                                                109.63   \n",
       "\n",
       "             MAXMIN(sessions.MAX(transactions.amount))  \\\n",
       "customer_id                                              \n",
       "5                                                20.51   \n",
       "4                                                10.75   \n",
       "1                                                20.53   \n",
       "3                                                22.41   \n",
       "2                                                46.77   \n",
       "\n",
       "             MAXMIN(sessions.MAXMIN(transactions.amount))  \\\n",
       "customer_id                                                 \n",
       "5                                                   29.12   \n",
       "4                                                   54.78   \n",
       "1                                                   26.39   \n",
       "3                                                   35.06   \n",
       "2                                                   52.82   \n",
       "\n",
       "             MEAN(sessions.COUNT(transactions))  \\\n",
       "customer_id                                       \n",
       "5                                     13.166667   \n",
       "4                                     13.625000   \n",
       "1                                     15.750000   \n",
       "3                                     15.500000   \n",
       "2                                     13.285714   \n",
       "\n",
       "             MEAN(sessions.MAX(transactions.amount))  \\\n",
       "customer_id                                            \n",
       "5                                         139.960000   \n",
       "4                                         144.748750   \n",
       "1                                         132.246250   \n",
       "3                                         141.271667   \n",
       "2                                         133.090000   \n",
       "\n",
       "             LAST(transactions.sessions.device) = mobile  \\\n",
       "customer_id                                                \n",
       "5                                                   True   \n",
       "4                                                  False   \n",
       "1                                                   True   \n",
       "3                                                   True   \n",
       "2                                                   True   \n",
       "\n",
       "             LAST(transactions.sessions.device) = desktop  \\\n",
       "customer_id                                                 \n",
       "5                                                   False   \n",
       "4                                                    True   \n",
       "1                                                   False   \n",
       "3                                                   False   \n",
       "2                                                   False   \n",
       "\n",
       "             LAST(transactions.sessions.device) is unknown  \n",
       "customer_id                                                 \n",
       "5                                                    False  \n",
       "4                                                    False  \n",
       "1                                                    False  \n",
       "3                                                    False  \n",
       "2                                                    False  \n",
       "\n",
       "[5 rows x 29 columns]"
      ],
      "text/html": "<div>\n<style scoped>\n    .dataframe tbody tr th:only-of-type {\n        vertical-align: middle;\n    }\n\n    .dataframe tbody tr th {\n        vertical-align: top;\n    }\n\n    .dataframe thead th {\n        text-align: right;\n    }\n</style>\n<table border=\"1\" class=\"dataframe\">\n  <thead>\n    <tr style=\"text-align: right;\">\n      <th></th>\n      <th>COUNT(sessions)</th>\n      <th>LAST(sessions.device) = mobile</th>\n      <th>LAST(sessions.device) = desktop</th>\n      <th>LAST(sessions.device) is unknown</th>\n      <th>COUNT(transactions)</th>\n      <th>LAST(transactions.amount)</th>\n      <th>MAX(transactions.amount)</th>\n      <th>MEAN(transactions.amount)</th>\n      <th>GET_ADDR(zip_code)[0]</th>\n      <th>GET_ADDR(zip_code)[1]</th>\n      <th>...</th>\n      <th>MAX(sessions.MAXMIN(transactions.amount))</th>\n      <th>MAX(sessions.MEAN(transactions.amount))</th>\n      <th>MAXMIN(sessions.LAST(transactions.amount))</th>\n      <th>MAXMIN(sessions.MAX(transactions.amount))</th>\n      <th>MAXMIN(sessions.MAXMIN(transactions.amount))</th>\n      <th>MEAN(sessions.COUNT(transactions))</th>\n      <th>MEAN(sessions.MAX(transactions.amount))</th>\n      <th>LAST(transactions.sessions.device) = mobile</th>\n      <th>LAST(transactions.sessions.device) = desktop</th>\n      <th>LAST(transactions.sessions.device) is unknown</th>\n    </tr>\n    <tr>\n      <th>customer_id</th>\n      <th></th>\n      <th></th>\n      <th></th>\n      <th></th>\n      <th></th>\n      <th></th>\n      <th></th>\n      <th></th>\n      <th></th>\n      <th></th>\n      <th></th>\n      <th></th>\n      <th></th>\n      <th></th>\n      <th></th>\n      <th></th>\n      <th></th>\n      <th></th>\n      <th></th>\n      <th></th>\n      <th></th>\n    </tr>\n  </thead>\n  <tbody>\n    <tr>\n      <th>5</th>\n      <td>6</td>\n      <td>True</td>\n      <td>False</td>\n      <td>False</td>\n      <td>79</td>\n      <td>111.02</td>\n      <td>149.02</td>\n      <td>80.375443</td>\n      <td>600</td>\n      <td>91</td>\n      <td>...</td>\n      <td>136.98</td>\n      <td>94.481667</td>\n      <td>124.74</td>\n      <td>20.51</td>\n      <td>29.12</td>\n      <td>13.166667</td>\n      <td>139.960000</td>\n      <td>True</td>\n      <td>False</td>\n      <td>False</td>\n    </tr>\n    <tr>\n      <th>4</th>\n      <td>8</td>\n      <td>False</td>\n      <td>True</td>\n      <td>False</td>\n      <td>109</td>\n      <td>127.71</td>\n      <td>149.95</td>\n      <td>80.070459</td>\n      <td>600</td>\n      <td>91</td>\n      <td>...</td>\n      <td>143.11</td>\n      <td>110.450000</td>\n      <td>142.52</td>\n      <td>10.75</td>\n      <td>54.78</td>\n      <td>13.625000</td>\n      <td>144.748750</td>\n      <td>False</td>\n      <td>True</td>\n      <td>False</td>\n    </tr>\n    <tr>\n      <th>1</th>\n      <td>8</td>\n      <td>True</td>\n      <td>False</td>\n      <td>False</td>\n      <td>126</td>\n      <td>67.43</td>\n      <td>139.43</td>\n      <td>71.631905</td>\n      <td>600</td>\n      <td>91</td>\n      <td>...</td>\n      <td>133.52</td>\n      <td>88.755625</td>\n      <td>103.39</td>\n      <td>20.53</td>\n      <td>26.39</td>\n      <td>15.750000</td>\n      <td>132.246250</td>\n      <td>True</td>\n      <td>False</td>\n      <td>False</td>\n    </tr>\n    <tr>\n      <th>3</th>\n      <td>6</td>\n      <td>True</td>\n      <td>False</td>\n      <td>False</td>\n      <td>93</td>\n      <td>148.31</td>\n      <td>149.15</td>\n      <td>67.060430</td>\n      <td>132</td>\n      <td>44</td>\n      <td>...</td>\n      <td>143.26</td>\n      <td>82.109444</td>\n      <td>107.43</td>\n      <td>22.41</td>\n      <td>35.06</td>\n      <td>15.500000</td>\n      <td>141.271667</td>\n      <td>True</td>\n      <td>False</td>\n      <td>False</td>\n    </tr>\n    <tr>\n      <th>2</th>\n      <td>7</td>\n      <td>True</td>\n      <td>False</td>\n      <td>False</td>\n      <td>93</td>\n      <td>66.80</td>\n      <td>146.81</td>\n      <td>77.422366</td>\n      <td>132</td>\n      <td>44</td>\n      <td>...</td>\n      <td>134.74</td>\n      <td>96.581000</td>\n      <td>109.63</td>\n      <td>46.77</td>\n      <td>52.82</td>\n      <td>13.285714</td>\n      <td>133.090000</td>\n      <td>True</td>\n      <td>False</td>\n      <td>False</td>\n    </tr>\n  </tbody>\n</table>\n<p>5 rows × 29 columns</p>\n</div>"
     },
     "metadata": {},
     "execution_count": 26
    }
   ],
   "source": [
    "deploy_matrix"
   ]
  },
  {
   "cell_type": "code",
   "execution_count": 27,
   "metadata": {},
   "outputs": [],
   "source": [
    "# save/load deploy_fd\n",
    "auto_c.deploy_features_create(deploy_fd,'feature_definitions.json')"
   ]
  },
  {
   "cell_type": "code",
   "execution_count": 28,
   "metadata": {},
   "outputs": [],
   "source": [
    "#加载保存的model,并转化数据\n",
    "feature_df_load = AutoCreate.load_features_create('feature_definitions.json')"
   ]
  },
  {
   "cell_type": "code",
   "execution_count": 29,
   "metadata": {},
   "outputs": [],
   "source": [
    "new_ac = AutoCreate()"
   ]
  },
  {
   "cell_type": "code",
   "execution_count": 30,
   "metadata": {},
   "outputs": [],
   "source": [
    "# 加载数据与关系(也可以传入通过AutoCreate构建的auto_create)\n",
    "entities = {\"customers\" : (customers_df, \"customer_id\"),\n",
    "    \"sessions\" : (sessions_df, \"session_id\", \"session_start\"),\n",
    "    \"transactions\" : (transactions_df, \"transaction_id\", \"transaction_time\")}\n",
    "relationships = [(\"sessions\", \"session_id\", \"transactions\", \"session_id\"),\n",
    "                (\"customers\", \"customer_id\", \"sessions\", \"customer_id\")]"
   ]
  },
  {
   "cell_type": "code",
   "execution_count": 31,
   "metadata": {},
   "outputs": [],
   "source": [
    "conv_matrix = new_ac.make_features(entities=entities, relationships=relationships,features=feature_df_load)"
   ]
  },
  {
   "cell_type": "code",
   "execution_count": 32,
   "metadata": {},
   "outputs": [
    {
     "output_type": "execute_result",
     "data": {
      "text/plain": [
       "             COUNT(sessions)  LAST(sessions.device) = mobile  \\\n",
       "customer_id                                                    \n",
       "1                          8                            True   \n",
       "2                          7                            True   \n",
       "3                          6                            True   \n",
       "4                          8                           False   \n",
       "5                          6                            True   \n",
       "\n",
       "             LAST(sessions.device) = desktop  \\\n",
       "customer_id                                    \n",
       "1                                      False   \n",
       "2                                      False   \n",
       "3                                      False   \n",
       "4                                       True   \n",
       "5                                      False   \n",
       "\n",
       "             LAST(sessions.device) is unknown  COUNT(transactions)  \\\n",
       "customer_id                                                          \n",
       "1                                       False                  126   \n",
       "2                                       False                   93   \n",
       "3                                       False                   93   \n",
       "4                                       False                  109   \n",
       "5                                       False                   79   \n",
       "\n",
       "             LAST(transactions.amount)  MAX(transactions.amount)  \\\n",
       "customer_id                                                        \n",
       "1                                67.43                    139.43   \n",
       "2                                66.80                    146.81   \n",
       "3                               148.31                    149.15   \n",
       "4                               127.71                    149.95   \n",
       "5                               111.02                    149.02   \n",
       "\n",
       "             MEAN(transactions.amount) GET_ADDR(zip_code)[0]  \\\n",
       "customer_id                                                    \n",
       "1                            71.631905                   600   \n",
       "2                            77.422366                   132   \n",
       "3                            67.060430                   132   \n",
       "4                            80.070459                   600   \n",
       "5                            80.375443                   600   \n",
       "\n",
       "            GET_ADDR(zip_code)[1]  ...  \\\n",
       "customer_id                        ...   \n",
       "1                              91  ...   \n",
       "2                              44  ...   \n",
       "3                              44  ...   \n",
       "4                              91  ...   \n",
       "5                              91  ...   \n",
       "\n",
       "             MAX(sessions.MAXMIN(transactions.amount))  \\\n",
       "customer_id                                              \n",
       "1                                               133.52   \n",
       "2                                               134.74   \n",
       "3                                               143.26   \n",
       "4                                               143.11   \n",
       "5                                               136.98   \n",
       "\n",
       "             MAX(sessions.MEAN(transactions.amount))  \\\n",
       "customer_id                                            \n",
       "1                                          88.755625   \n",
       "2                                          96.581000   \n",
       "3                                          82.109444   \n",
       "4                                         110.450000   \n",
       "5                                          94.481667   \n",
       "\n",
       "             MAXMIN(sessions.LAST(transactions.amount))  \\\n",
       "customer_id                                               \n",
       "1                                                103.39   \n",
       "2                                                109.63   \n",
       "3                                                107.43   \n",
       "4                                                142.52   \n",
       "5                                                124.74   \n",
       "\n",
       "             MAXMIN(sessions.MAX(transactions.amount))  \\\n",
       "customer_id                                              \n",
       "1                                                20.53   \n",
       "2                                                46.77   \n",
       "3                                                22.41   \n",
       "4                                                10.75   \n",
       "5                                                20.51   \n",
       "\n",
       "             MAXMIN(sessions.MAXMIN(transactions.amount))  \\\n",
       "customer_id                                                 \n",
       "1                                                   26.39   \n",
       "2                                                   52.82   \n",
       "3                                                   35.06   \n",
       "4                                                   54.78   \n",
       "5                                                   29.12   \n",
       "\n",
       "             MEAN(sessions.COUNT(transactions))  \\\n",
       "customer_id                                       \n",
       "1                                     15.750000   \n",
       "2                                     13.285714   \n",
       "3                                     15.500000   \n",
       "4                                     13.625000   \n",
       "5                                     13.166667   \n",
       "\n",
       "             MEAN(sessions.MAX(transactions.amount))  \\\n",
       "customer_id                                            \n",
       "1                                         132.246250   \n",
       "2                                         133.090000   \n",
       "3                                         141.271667   \n",
       "4                                         144.748750   \n",
       "5                                         139.960000   \n",
       "\n",
       "             LAST(transactions.sessions.device) = mobile  \\\n",
       "customer_id                                                \n",
       "1                                                   True   \n",
       "2                                                   True   \n",
       "3                                                   True   \n",
       "4                                                  False   \n",
       "5                                                   True   \n",
       "\n",
       "             LAST(transactions.sessions.device) = desktop  \\\n",
       "customer_id                                                 \n",
       "1                                                   False   \n",
       "2                                                   False   \n",
       "3                                                   False   \n",
       "4                                                    True   \n",
       "5                                                   False   \n",
       "\n",
       "             LAST(transactions.sessions.device) is unknown  \n",
       "customer_id                                                 \n",
       "1                                                    False  \n",
       "2                                                    False  \n",
       "3                                                    False  \n",
       "4                                                    False  \n",
       "5                                                    False  \n",
       "\n",
       "[5 rows x 29 columns]"
      ],
      "text/html": "<div>\n<style scoped>\n    .dataframe tbody tr th:only-of-type {\n        vertical-align: middle;\n    }\n\n    .dataframe tbody tr th {\n        vertical-align: top;\n    }\n\n    .dataframe thead th {\n        text-align: right;\n    }\n</style>\n<table border=\"1\" class=\"dataframe\">\n  <thead>\n    <tr style=\"text-align: right;\">\n      <th></th>\n      <th>COUNT(sessions)</th>\n      <th>LAST(sessions.device) = mobile</th>\n      <th>LAST(sessions.device) = desktop</th>\n      <th>LAST(sessions.device) is unknown</th>\n      <th>COUNT(transactions)</th>\n      <th>LAST(transactions.amount)</th>\n      <th>MAX(transactions.amount)</th>\n      <th>MEAN(transactions.amount)</th>\n      <th>GET_ADDR(zip_code)[0]</th>\n      <th>GET_ADDR(zip_code)[1]</th>\n      <th>...</th>\n      <th>MAX(sessions.MAXMIN(transactions.amount))</th>\n      <th>MAX(sessions.MEAN(transactions.amount))</th>\n      <th>MAXMIN(sessions.LAST(transactions.amount))</th>\n      <th>MAXMIN(sessions.MAX(transactions.amount))</th>\n      <th>MAXMIN(sessions.MAXMIN(transactions.amount))</th>\n      <th>MEAN(sessions.COUNT(transactions))</th>\n      <th>MEAN(sessions.MAX(transactions.amount))</th>\n      <th>LAST(transactions.sessions.device) = mobile</th>\n      <th>LAST(transactions.sessions.device) = desktop</th>\n      <th>LAST(transactions.sessions.device) is unknown</th>\n    </tr>\n    <tr>\n      <th>customer_id</th>\n      <th></th>\n      <th></th>\n      <th></th>\n      <th></th>\n      <th></th>\n      <th></th>\n      <th></th>\n      <th></th>\n      <th></th>\n      <th></th>\n      <th></th>\n      <th></th>\n      <th></th>\n      <th></th>\n      <th></th>\n      <th></th>\n      <th></th>\n      <th></th>\n      <th></th>\n      <th></th>\n      <th></th>\n    </tr>\n  </thead>\n  <tbody>\n    <tr>\n      <th>1</th>\n      <td>8</td>\n      <td>True</td>\n      <td>False</td>\n      <td>False</td>\n      <td>126</td>\n      <td>67.43</td>\n      <td>139.43</td>\n      <td>71.631905</td>\n      <td>600</td>\n      <td>91</td>\n      <td>...</td>\n      <td>133.52</td>\n      <td>88.755625</td>\n      <td>103.39</td>\n      <td>20.53</td>\n      <td>26.39</td>\n      <td>15.750000</td>\n      <td>132.246250</td>\n      <td>True</td>\n      <td>False</td>\n      <td>False</td>\n    </tr>\n    <tr>\n      <th>2</th>\n      <td>7</td>\n      <td>True</td>\n      <td>False</td>\n      <td>False</td>\n      <td>93</td>\n      <td>66.80</td>\n      <td>146.81</td>\n      <td>77.422366</td>\n      <td>132</td>\n      <td>44</td>\n      <td>...</td>\n      <td>134.74</td>\n      <td>96.581000</td>\n      <td>109.63</td>\n      <td>46.77</td>\n      <td>52.82</td>\n      <td>13.285714</td>\n      <td>133.090000</td>\n      <td>True</td>\n      <td>False</td>\n      <td>False</td>\n    </tr>\n    <tr>\n      <th>3</th>\n      <td>6</td>\n      <td>True</td>\n      <td>False</td>\n      <td>False</td>\n      <td>93</td>\n      <td>148.31</td>\n      <td>149.15</td>\n      <td>67.060430</td>\n      <td>132</td>\n      <td>44</td>\n      <td>...</td>\n      <td>143.26</td>\n      <td>82.109444</td>\n      <td>107.43</td>\n      <td>22.41</td>\n      <td>35.06</td>\n      <td>15.500000</td>\n      <td>141.271667</td>\n      <td>True</td>\n      <td>False</td>\n      <td>False</td>\n    </tr>\n    <tr>\n      <th>4</th>\n      <td>8</td>\n      <td>False</td>\n      <td>True</td>\n      <td>False</td>\n      <td>109</td>\n      <td>127.71</td>\n      <td>149.95</td>\n      <td>80.070459</td>\n      <td>600</td>\n      <td>91</td>\n      <td>...</td>\n      <td>143.11</td>\n      <td>110.450000</td>\n      <td>142.52</td>\n      <td>10.75</td>\n      <td>54.78</td>\n      <td>13.625000</td>\n      <td>144.748750</td>\n      <td>False</td>\n      <td>True</td>\n      <td>False</td>\n    </tr>\n    <tr>\n      <th>5</th>\n      <td>6</td>\n      <td>True</td>\n      <td>False</td>\n      <td>False</td>\n      <td>79</td>\n      <td>111.02</td>\n      <td>149.02</td>\n      <td>80.375443</td>\n      <td>600</td>\n      <td>91</td>\n      <td>...</td>\n      <td>136.98</td>\n      <td>94.481667</td>\n      <td>124.74</td>\n      <td>20.51</td>\n      <td>29.12</td>\n      <td>13.166667</td>\n      <td>139.960000</td>\n      <td>True</td>\n      <td>False</td>\n      <td>False</td>\n    </tr>\n  </tbody>\n</table>\n<p>5 rows × 29 columns</p>\n</div>"
     },
     "metadata": {},
     "execution_count": 32
    }
   ],
   "source": [
    "conv_matrix"
   ]
  },
  {
   "cell_type": "code",
   "execution_count": null,
   "metadata": {},
   "outputs": [],
   "source": []
  }
 ]
}